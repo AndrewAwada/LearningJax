{
 "cells": [
  {
   "cell_type": "code",
   "execution_count": 1,
   "metadata": {},
   "outputs": [],
   "source": [
    "import jax\n",
    "import jax.numpy as jnp\n",
    "from jax.tree_util import tree_flatten, tree_unflatten, register_pytree_node\n",
    "from jax import random, grad, jit, vmap, nn, value_and_grad\n",
    "from jax.scipy.special import logsumexp\n",
    "import random as r\n",
    "import matplotlib.pyplot as plt\n",
    "%matplotlib inline"
   ]
  },
  {
   "cell_type": "code",
   "execution_count": 2,
   "metadata": {},
   "outputs": [
    {
     "name": "stdout",
     "output_type": "stream",
     "text": [
      "32033\n",
      "15\n",
      "['emma', 'olivia', 'ava', 'isabella', 'sophia', 'charlotte', 'mia', 'amelia']\n"
     ]
    }
   ],
   "source": [
    "# read in all the words\n",
    "words = open('names.txt', 'r').read().splitlines()\n",
    "print(len(words))\n",
    "print(max(len(w) for w in words))\n",
    "print(words[:8])"
   ]
  },
  {
   "cell_type": "code",
   "execution_count": 3,
   "metadata": {},
   "outputs": [
    {
     "name": "stdout",
     "output_type": "stream",
     "text": [
      "{1: 'a', 2: 'b', 3: 'c', 4: 'd', 5: 'e', 6: 'f', 7: 'g', 8: 'h', 9: 'i', 10: 'j', 11: 'k', 12: 'l', 13: 'm', 14: 'n', 15: 'o', 16: 'p', 17: 'q', 18: 'r', 19: 's', 20: 't', 21: 'u', 22: 'v', 23: 'w', 24: 'x', 25: 'y', 26: 'z', 0: '.'}\n",
      "27\n"
     ]
    }
   ],
   "source": [
    "# build the vocabulary of characters and mappings to/from integers\n",
    "chars = sorted(list(set(''.join(words))))\n",
    "stoi = {s:i+1 for i,s in enumerate(chars)}\n",
    "stoi['.'] = 0\n",
    "itos = {i:s for s,i in stoi.items()}\n",
    "vocab_size = len(itos)\n",
    "print(itos)\n",
    "print(vocab_size)"
   ]
  },
  {
   "cell_type": "code",
   "execution_count": 4,
   "metadata": {},
   "outputs": [],
   "source": [
    "# shuffle up the words\n",
    "import random as r\n",
    "r.seed(42)\n",
    "r.shuffle(words)"
   ]
  },
  {
   "cell_type": "code",
   "execution_count": 5,
   "metadata": {},
   "outputs": [
    {
     "name": "stdout",
     "output_type": "stream",
     "text": [
      "(182625, 8) (182625,)\n",
      "(22655, 8) (22655,)\n",
      "(22866, 8) (22866,)\n"
     ]
    }
   ],
   "source": [
    "# build the dataset\n",
    "block_size = 8 # context length: how many characters do we take to predict the next one?\n",
    "\n",
    "def build_dataset(words):  \n",
    "  X, Y = [], []\n",
    "  \n",
    "  for w in words:\n",
    "    context = [0] * block_size\n",
    "    for ch in w + '.':\n",
    "      ix = stoi[ch]\n",
    "      X.append(context)\n",
    "      Y.append(ix)\n",
    "      context = context[1:] + [ix] # crop and append\n",
    "\n",
    "  X = jnp.array(X)\n",
    "  Y = jnp.array(Y)\n",
    "  print(X.shape, Y.shape)\n",
    "  return X, Y\n",
    "\n",
    "n1 = int(0.8*len(words))\n",
    "n2 = int(0.9*len(words))\n",
    "Xtr,  Ytr  = build_dataset(words[:n1])     # 80%\n",
    "Xdev, Ydev = build_dataset(words[n1:n2])   # 10%\n",
    "Xte,  Yte  = build_dataset(words[n2:])     # 10%"
   ]
  },
  {
   "cell_type": "code",
   "execution_count": 6,
   "metadata": {},
   "outputs": [
    {
     "name": "stdout",
     "output_type": "stream",
     "text": [
      "........ --> y\n",
      ".......y --> u\n",
      "......yu --> h\n",
      ".....yuh --> e\n",
      "....yuhe --> n\n",
      "...yuhen --> g\n",
      "..yuheng --> .\n",
      "........ --> d\n",
      ".......d --> i\n",
      "......di --> o\n",
      ".....dio --> n\n",
      "....dion --> d\n",
      "...diond --> r\n",
      "..diondr --> e\n",
      ".diondre --> .\n",
      "........ --> x\n",
      ".......x --> a\n",
      "......xa --> v\n",
      ".....xav --> i\n",
      "....xavi --> e\n"
     ]
    }
   ],
   "source": [
    "for x,y in zip(Xtr[:20], Ytr[:20]):\n",
    "  print(''.join(itos[ix.item()] for ix in x), '-->', itos[y.item()])"
   ]
  },
  {
   "cell_type": "code",
   "execution_count": 104,
   "metadata": {},
   "outputs": [],
   "source": [
    "from typing import Any\n",
    "\n",
    "\n",
    "class Linear:\n",
    "\n",
    "    def __init__(self, fan_in, fan_out, key, bias_used=True, weight=None, bias=None):\n",
    "        key, _ = random.split(key)\n",
    "        self.key = key\n",
    "\n",
    "        if weight != None:\n",
    "            self.weight = weight\n",
    "            self.bias = bias\n",
    "        else:\n",
    "            self.weight = random.normal(key, (fan_in, fan_out)) / fan_in**0.5\n",
    "            self.bias = jnp.zeros(fan_out) if bias_used else None\n",
    "\n",
    "    def __call__(self, x):\n",
    "        self.out = x @ self.weight\n",
    "        if self.bias is not None:\n",
    "            self.out += self.bias\n",
    "        return self.out\n",
    "    \n",
    "    def parameters(self):\n",
    "        return [self.weight] + ([] if self.bias is None else [self.bias])\n",
    "    \n",
    "\n",
    "class BatchNorm1d:\n",
    "\n",
    "    def __init__(self, dim, eps=1e-5, momentum=0.1, gamma=None, beta=None):\n",
    "        self.eps = eps\n",
    "        self.momentum = momentum\n",
    "        self.training = True\n",
    "        # parameters (trained with backprop)\n",
    "        if gamma != None and beta != None:\n",
    "            self.gamma = gamma\n",
    "            self.beta = beta\n",
    "        else:\n",
    "            self.gamma = jnp.ones(dim)\n",
    "            self.beta = jnp.zeros(dim)\n",
    "        # buffers (trained with a running momentum update)\n",
    "        self.running_mean = jnp.zeros(dim)\n",
    "        self.running_var = jnp.ones(dim)\n",
    "\n",
    "    def __call__(self, x):\n",
    "        if self.training:\n",
    "            if x.ndim == 2:\n",
    "                dim = 0\n",
    "            elif x.ndim == 3:\n",
    "                dim = (0, 1)\n",
    "            xmean = jnp.mean(x, axis=dim, keepdims=True) # batch mean\n",
    "            xvar = jnp.std(x, axis=dim, keepdims=True) + self.eps # batch variance\n",
    "        else:\n",
    "            xmean = self.running_mean\n",
    "            xvar = self.running_var\n",
    "        xhat = (x - xmean) / jnp.sqrt(xvar) # normalize to unit variance\n",
    "        self.out = self.gamma * xhat + self.beta\n",
    "        # update the buffers\n",
    "        if self.training:\n",
    "            self.running_mean = (1 - self.momentum) * self.running_mean + self.momentum * xmean\n",
    "            self.running_var = (1 - self.momentum) * self.running_var + self.momentum * xvar\n",
    "        return self.out\n",
    "    \n",
    "    def parameters(self):\n",
    "        return [self.gamma, self.beta]\n",
    "    \n",
    "\n",
    "class Tanh:\n",
    "    def __call__(self, x):\n",
    "        self.out = jnp.tanh(x)\n",
    "        return self.out\n",
    "    \n",
    "    def parameters(self):\n",
    "        return []\n",
    "    \n",
    "\n",
    "class Embedding:\n",
    "    def __init__(self, num_embeddings, embedding_dim, key, weight=None):\n",
    "        key, _ = random.split(key)\n",
    "        self.key = key\n",
    "\n",
    "        if weight != None:\n",
    "            self.weight = weight\n",
    "        else:\n",
    "            self.weight = random.normal(key, (num_embeddings, embedding_dim))\n",
    "    \n",
    "    def __call__(self, IX):\n",
    "        self.out = self.weight[IX]\n",
    "        return self.out\n",
    "    \n",
    "    def parameters(self):\n",
    "        return [self.weight]\n",
    "    \n",
    "\n",
    "class FlattenConsecutive:\n",
    "    def __init__(self, n):\n",
    "        self.n = n\n",
    "\n",
    "    def __call__(self, x):\n",
    "        B, T, C = x.shape\n",
    "        x = jnp.reshape(x, (B, T//self.n, C*self.n))\n",
    "        if x.shape[1] == 1:\n",
    "            x = jnp.squeeze(x, axis=1)\n",
    "        self.out = x\n",
    "        return self.out\n",
    "    \n",
    "    def parameters(self):\n",
    "        return []\n",
    "    \n",
    "\n",
    "class Sequential:\n",
    "    def __init__(self, layers):\n",
    "        self.layers = layers\n",
    "\n",
    "    def __call__(self, x):\n",
    "        for layer in self.layers:\n",
    "            x = layer(x)\n",
    "        self.out = x\n",
    "        return self.out\n",
    "    \n",
    "    def parameters(self):\n",
    "        return [p for layer in self.layers for p in layer.parameters()]\n"
   ]
  },
  {
   "cell_type": "code",
   "execution_count": 105,
   "metadata": {},
   "outputs": [],
   "source": [
    "register_pytree_node(Linear, lambda l: ((l.weight, l.bias), l.key),\n",
    "                             lambda aux, xs: Linear(xs[0].shape[0], xs[0].shape[1], aux, weight=xs[0], bias=xs[1]))\n",
    "register_pytree_node(BatchNorm1d, lambda l: ((l.gamma, l.beta), None),\n",
    "                                  lambda aux, xs: BatchNorm1d(len(xs[0]), gamma=xs[0], beta=xs[1]))\n",
    "register_pytree_node(Tanh, lambda l: ((), None), lambda _, xs: Tanh())\n",
    "register_pytree_node(Embedding, lambda l: ((l.weight, ), l.key),\n",
    "                                lambda aux, xs: Embedding(xs[0].shape[0], xs[0].shape[1], aux, weight=xs[0]))\n",
    "register_pytree_node(FlattenConsecutive, lambda l: ((), l.n), lambda aux, xs: FlattenConsecutive(aux))\n",
    "register_pytree_node(Sequential, lambda l: ((l.layers, ), None),\n",
    "                                 lambda _, xs: Sequential(xs[0]))"
   ]
  },
  {
   "cell_type": "code",
   "execution_count": 133,
   "metadata": {},
   "outputs": [
    {
     "name": "stdout",
     "output_type": "stream",
     "text": [
      "12\n"
     ]
    },
    {
     "data": {
      "text/plain": [
       "72617"
      ]
     },
     "execution_count": 133,
     "metadata": {},
     "output_type": "execute_result"
    }
   ],
   "source": [
    "n_embd = 10\n",
    "n_hidden = 128\n",
    "key = random.PRNGKey(10)\n",
    "\n",
    "model = Sequential([\n",
    "    Embedding(vocab_size, n_embd, key),\n",
    "    FlattenConsecutive(2), Linear(n_embd * 2, n_hidden, key, bias_used=False), BatchNorm1d(n_hidden), Tanh(),\n",
    "    FlattenConsecutive(2), Linear(n_hidden * 2, n_hidden, key, bias_used=False), BatchNorm1d(n_hidden), Tanh(),\n",
    "    FlattenConsecutive(2), Linear(n_hidden * 2, n_hidden, key, bias_used=False), BatchNorm1d(n_hidden), Tanh(),\n",
    "    Linear(n_hidden, vocab_size, key),\n",
    "])\n",
    "\n",
    "# make the last layer less confident\n",
    "# layers[-1].weight *= 0.1\n",
    "model.layers[-1].weight *= 0.1\n",
    "# apply the gain to all the other layers\n",
    "# for layer in layers[:-1]:\n",
    "#     if isinstance(layer, Linear):\n",
    "#         layer.weight *= 5/3\n",
    "\n",
    "parameters = model.parameters()\n",
    "params, _ = tree_flatten(parameters)\n",
    "print(len(params))\n",
    "sum(jnp.size(p) for p in params)"
   ]
  },
  {
   "cell_type": "code",
   "execution_count": 134,
   "metadata": {},
   "outputs": [],
   "source": [
    "def predict(model, x):\n",
    "    return model(x)\n",
    "\n",
    "def cross_entropy_loss(model, X, Y):\n",
    "    logits = predict(model, X)\n",
    "    counts = jnp.exp(logits - logsumexp(logits, axis=1, keepdims=True)) # logits - logsumexp(logits) ensures that there aren't overflow errors\n",
    "    probs = counts / jnp.sum(counts, 1, keepdims=True)\n",
    "    def get_idx(prob, y):\n",
    "        return -jnp.log(prob[y])\n",
    "    vectorized_probs = vmap(get_idx)(probs, Y)\n",
    "    return vectorized_probs.mean()\n",
    "\n",
    "def update(model, X, Y, lr=0.1):\n",
    "    value, grads = value_and_grad(cross_entropy_loss)(model, X, Y)\n",
    "    for l, g in zip(model.layers, grads.layers):\n",
    "        if isinstance(l, Embedding):\n",
    "            l.weight = l.weight - lr * g.weight\n",
    "        elif isinstance(l, Linear):\n",
    "            l.weight = l.weight - lr * g.weight\n",
    "            if l.bias is not None: l.bias = l.bias - lr * g.bias\n",
    "        elif isinstance(l, BatchNorm1d):\n",
    "            l.gamma = l.gamma - lr * g.gamma\n",
    "            l.beta = l.beta - lr * g.beta\n",
    "    return value, model"
   ]
  },
  {
   "cell_type": "code",
   "execution_count": 135,
   "metadata": {},
   "outputs": [
    {
     "name": "stdout",
     "output_type": "stream",
     "text": [
      "      0/ 200000: 3.2829\n",
      "   1000/ 200000: 2.3087\n",
      "   2000/ 200000: 1.6655\n",
      "   3000/ 200000: 2.2688\n",
      "   4000/ 200000: 2.4018\n",
      "   5000/ 200000: 1.8470\n",
      "   6000/ 200000: 2.1664\n",
      "   7000/ 200000: 2.1493\n",
      "   8000/ 200000: 2.0071\n",
      "   9000/ 200000: 2.3522\n",
      "  10000/ 200000: 2.4615\n",
      "  11000/ 200000: 2.4000\n",
      "  12000/ 200000: 2.5079\n",
      "  13000/ 200000: 2.2513\n",
      "  14000/ 200000: 1.9899\n",
      "  15000/ 200000: 2.3722\n",
      "  16000/ 200000: 2.2734\n",
      "  17000/ 200000: 2.1110\n",
      "  18000/ 200000: 1.9397\n",
      "  19000/ 200000: 1.8232\n",
      "  20000/ 200000: 2.4104\n",
      "  21000/ 200000: 1.8821\n",
      "  22000/ 200000: 1.7686\n",
      "  23000/ 200000: 2.0845\n",
      "  24000/ 200000: 2.1856\n",
      "  25000/ 200000: 1.9381\n",
      "  26000/ 200000: 2.3237\n",
      "  27000/ 200000: 2.1838\n",
      "  28000/ 200000: 1.7904\n",
      "  29000/ 200000: 1.8509\n",
      "  30000/ 200000: 2.1439\n",
      "  31000/ 200000: 1.9980\n",
      "  32000/ 200000: 1.7549\n",
      "  33000/ 200000: 1.9595\n",
      "  34000/ 200000: 1.6951\n",
      "  35000/ 200000: 2.1017\n",
      "  36000/ 200000: 1.8572\n",
      "  37000/ 200000: 2.3844\n",
      "  38000/ 200000: 2.2471\n",
      "  39000/ 200000: 2.0143\n",
      "  40000/ 200000: 2.0150\n",
      "  41000/ 200000: 1.9953\n",
      "  42000/ 200000: 1.9022\n",
      "  43000/ 200000: 1.9382\n",
      "  44000/ 200000: 1.8122\n",
      "  45000/ 200000: 1.9052\n",
      "  46000/ 200000: 1.4044\n",
      "  47000/ 200000: 1.8843\n",
      "  48000/ 200000: 1.6585\n",
      "  49000/ 200000: 1.9643\n",
      "  50000/ 200000: 1.8637\n",
      "  51000/ 200000: 2.0327\n",
      "  52000/ 200000: 2.0498\n",
      "  53000/ 200000: 2.2255\n",
      "  54000/ 200000: 2.2496\n",
      "  55000/ 200000: 1.4824\n",
      "  56000/ 200000: 2.2936\n",
      "  57000/ 200000: 1.9008\n",
      "  58000/ 200000: 2.1185\n",
      "  59000/ 200000: 1.7680\n",
      "  60000/ 200000: 2.3401\n",
      "  61000/ 200000: 2.0108\n",
      "  62000/ 200000: 1.6330\n",
      "  63000/ 200000: 2.1003\n",
      "  64000/ 200000: 1.9205\n",
      "  65000/ 200000: 1.9106\n",
      "  66000/ 200000: 2.5034\n",
      "  67000/ 200000: 2.2360\n",
      "  68000/ 200000: 1.8094\n",
      "  69000/ 200000: 2.3900\n",
      "  70000/ 200000: 2.3697\n",
      "  71000/ 200000: 2.1158\n",
      "  72000/ 200000: 2.4871\n",
      "  73000/ 200000: 1.7191\n",
      "  74000/ 200000: 1.8692\n",
      "  75000/ 200000: 1.9258\n",
      "  76000/ 200000: 2.0056\n",
      "  77000/ 200000: 1.8766\n",
      "  78000/ 200000: 2.0187\n",
      "  79000/ 200000: 1.7743\n",
      "  80000/ 200000: 1.9092\n",
      "  81000/ 200000: 1.8937\n",
      "  82000/ 200000: 1.8513\n",
      "  83000/ 200000: 2.1558\n",
      "  84000/ 200000: 1.9573\n",
      "  85000/ 200000: 2.1640\n",
      "  86000/ 200000: 2.0763\n",
      "  87000/ 200000: 1.9212\n",
      "  88000/ 200000: 2.0608\n",
      "  89000/ 200000: 1.4358\n",
      "  90000/ 200000: 1.7940\n",
      "  91000/ 200000: 1.6990\n",
      "  92000/ 200000: 1.9305\n",
      "  93000/ 200000: 2.0930\n",
      "  94000/ 200000: 2.2428\n",
      "  95000/ 200000: 1.9951\n",
      "  96000/ 200000: 1.5835\n",
      "  97000/ 200000: 1.9211\n",
      "  98000/ 200000: 1.5989\n",
      "  99000/ 200000: 2.0530\n",
      " 100000/ 200000: 2.2421\n",
      " 101000/ 200000: 1.8959\n",
      " 102000/ 200000: 1.9090\n",
      " 103000/ 200000: 2.1425\n",
      " 104000/ 200000: 1.9316\n",
      " 105000/ 200000: 2.0497\n",
      " 106000/ 200000: 1.8500\n",
      " 107000/ 200000: 2.0358\n",
      " 108000/ 200000: 1.7293\n",
      " 109000/ 200000: 2.3511\n",
      " 110000/ 200000: 1.9084\n",
      " 111000/ 200000: 1.7936\n",
      " 112000/ 200000: 2.3945\n",
      " 113000/ 200000: 1.8504\n",
      " 114000/ 200000: 2.1298\n",
      " 115000/ 200000: 2.1659\n",
      " 116000/ 200000: 1.7673\n",
      " 117000/ 200000: 2.4078\n",
      " 118000/ 200000: 1.9369\n",
      " 119000/ 200000: 1.6834\n",
      " 120000/ 200000: 2.1665\n",
      " 121000/ 200000: 1.8916\n",
      " 122000/ 200000: 1.8588\n",
      " 123000/ 200000: 2.2076\n",
      " 124000/ 200000: 1.7178\n",
      " 125000/ 200000: 1.5373\n",
      " 126000/ 200000: 1.9711\n",
      " 127000/ 200000: 2.0883\n",
      " 128000/ 200000: 2.2591\n",
      " 129000/ 200000: 1.6713\n",
      " 130000/ 200000: 2.0444\n",
      " 131000/ 200000: 1.8231\n",
      " 132000/ 200000: 2.0321\n",
      " 133000/ 200000: 1.9838\n",
      " 134000/ 200000: 1.9284\n",
      " 135000/ 200000: 1.7730\n",
      " 136000/ 200000: 1.9151\n",
      " 137000/ 200000: 2.2556\n",
      " 138000/ 200000: 1.9976\n",
      " 139000/ 200000: 2.3688\n",
      " 140000/ 200000: 2.3560\n",
      " 141000/ 200000: 1.8974\n",
      " 142000/ 200000: 1.8940\n",
      " 143000/ 200000: 1.5884\n",
      " 144000/ 200000: 1.8552\n",
      " 145000/ 200000: 2.3321\n",
      " 146000/ 200000: 1.6692\n",
      " 147000/ 200000: 2.2454\n",
      " 148000/ 200000: 2.0438\n",
      " 149000/ 200000: 1.7166\n",
      " 150000/ 200000: 1.7409\n",
      " 151000/ 200000: 2.1436\n",
      " 152000/ 200000: 1.9645\n",
      " 153000/ 200000: 1.6669\n",
      " 154000/ 200000: 2.0734\n",
      " 155000/ 200000: 1.8995\n",
      " 156000/ 200000: 1.5068\n",
      " 157000/ 200000: 1.5316\n",
      " 158000/ 200000: 1.9573\n",
      " 159000/ 200000: 1.6495\n",
      " 160000/ 200000: 1.9510\n",
      " 161000/ 200000: 1.9411\n",
      " 162000/ 200000: 1.8194\n",
      " 163000/ 200000: 2.2470\n",
      " 164000/ 200000: 1.8706\n",
      " 165000/ 200000: 2.0831\n",
      " 166000/ 200000: 2.1458\n",
      " 167000/ 200000: 2.3101\n",
      " 168000/ 200000: 1.8633\n",
      " 169000/ 200000: 1.5942\n",
      " 170000/ 200000: 1.8961\n",
      " 171000/ 200000: 1.8922\n",
      " 172000/ 200000: 2.0785\n",
      " 173000/ 200000: 1.9888\n",
      " 174000/ 200000: 2.0906\n",
      " 175000/ 200000: 1.5181\n",
      " 176000/ 200000: 2.1310\n",
      " 177000/ 200000: 1.4420\n",
      " 178000/ 200000: 1.5920\n",
      " 179000/ 200000: 2.1399\n",
      " 180000/ 200000: 1.7230\n",
      " 181000/ 200000: 1.7061\n",
      " 182000/ 200000: 1.6311\n",
      " 183000/ 200000: 1.8889\n",
      " 184000/ 200000: 2.4229\n",
      " 185000/ 200000: 1.5065\n",
      " 186000/ 200000: 2.1474\n",
      " 187000/ 200000: 2.0411\n",
      " 188000/ 200000: 2.0051\n",
      " 189000/ 200000: 1.8123\n",
      " 190000/ 200000: 2.1601\n",
      " 191000/ 200000: 1.7656\n",
      " 192000/ 200000: 1.9347\n",
      " 193000/ 200000: 1.8716\n",
      " 194000/ 200000: 1.3347\n",
      " 195000/ 200000: 1.9755\n",
      " 196000/ 200000: 2.4947\n",
      " 197000/ 200000: 1.7509\n",
      " 198000/ 200000: 1.6641\n",
      " 199000/ 200000: 1.8174\n"
     ]
    }
   ],
   "source": [
    "epochs = 200000\n",
    "lossi = []\n",
    "batch_size = 32\n",
    "\n",
    "for i in range(epochs):\n",
    "    # get minibatch\n",
    "    key, _ = random.split(key)\n",
    "    ix = random.randint(key, (batch_size, ), 0, Xtr.shape[0]) # create random batch indicies\n",
    "    Xb, Yb = Xtr[ix], Ytr[ix]\n",
    "\n",
    "    lr = 0.1 if i < epochs/2 else 0.01\n",
    "    # out = predict(layers, Xb)\n",
    "    loss, model = update(model, Xb, Yb)\n",
    "    \n",
    "    if i % 1000 == 0:\n",
    "        print(f'{i:7d}/{epochs:7d}: {loss.item():.4f}')\n",
    "    lossi.append(jnp.log10(loss).item())"
   ]
  },
  {
   "cell_type": "code",
   "execution_count": 136,
   "metadata": {},
   "outputs": [
    {
     "data": {
      "text/plain": [
       "[<matplotlib.lines.Line2D at 0x430f3fc20>]"
      ]
     },
     "execution_count": 136,
     "metadata": {},
     "output_type": "execute_result"
    },
    {
     "data": {
      "image/png": "[encoded data removed]",
      "text/plain": [
       "<Figure size 640x480 with 1 Axes>"
      ]
     },
     "metadata": {},
     "output_type": "display_data"
    }
   ],
   "source": [
    "plt.plot(lossi)"
   ]
  },
  {
   "cell_type": "code",
   "execution_count": 137,
   "metadata": {},
   "outputs": [
    {
     "data": {
      "text/plain": [
       "[<matplotlib.lines.Line2D at 0x42dbb7110>]"
      ]
     },
     "execution_count": 137,
     "metadata": {},
     "output_type": "execute_result"
    },
    {
     "data": {
      "image/png": "[encoded data removed]",
      "text/plain": [
       "<Figure size 640x480 with 1 Axes>"
      ]
     },
     "metadata": {},
     "output_type": "display_data"
    }
   ],
   "source": [
    "# First, we make the plot nicer by plotting the average loss every 1000 steps\n",
    "plt.plot(jnp.mean(jnp.reshape(jnp.array(lossi), (-1, 1000)), axis=1))"
   ]
  },
  {
   "cell_type": "code",
   "execution_count": 138,
   "metadata": {},
   "outputs": [],
   "source": [
    "for layer in model.layers:\n",
    "    layer.training = False"
   ]
  },
  {
   "cell_type": "code",
   "execution_count": 139,
   "metadata": {},
   "outputs": [
    {
     "name": "stdout",
     "output_type": "stream",
     "text": [
      "train 2.156424045562744\n",
      "val 2.156424045562744\n"
     ]
    }
   ],
   "source": [
    "# evaluate the loss\n",
    "def split_loss(split):\n",
    "  x,y = {\n",
    "    'train': (Xtr, Ytr),\n",
    "    'val': (Xdev, Ydev),\n",
    "    'test': (Xte, Yte),\n",
    "  }[split]\n",
    "  cross_entropy_loss(model, x, y)\n",
    "  print(split, loss.item())\n",
    "\n",
    "split_loss('train')\n",
    "split_loss('val')"
   ]
  },
  {
   "cell_type": "code",
   "execution_count": 140,
   "metadata": {},
   "outputs": [
    {
     "name": "stdout",
     "output_type": "stream",
     "text": [
      "cex.\n",
      "raloghnurkingskfyntrionnch.\n",
      "ntnura.\n",
      "sakrhatal.\n",
      "raliyah.\n",
      "pathrigitas.\n",
      "iclashakro.\n",
      "nztted.\n",
      "rakthadazsydru.\n",
      "nkavitri.\n",
      "callyghanne.\n",
      "hvlahlasl.\n",
      "hylrag.\n",
      "ntnlian.\n",
      "waiganni.\n",
      "padylhnid.\n",
      "rykrsin.\n",
      "irmy.\n",
      "gaiklysh.\n",
      "hasvathaziyorhevachplramarh.\n"
     ]
    }
   ],
   "source": [
    "import torch\n",
    "g = torch.Generator().manual_seed(2147483647)\n",
    "\n",
    "def sample(parameters, num_words=5):\n",
    "    for i in range(num_words):\n",
    "        out = []\n",
    "        context = [0] * block_size # Initialize to ... (all state tokens)\n",
    "        while True:\n",
    "            logits = predict(model, jnp.array(context).reshape(1, -1))\n",
    "            probs = nn.softmax(logits, axis=1)\n",
    "\n",
    "            ix = torch.multinomial(torch.tensor(probs.tolist()), num_samples=1, replacement=True, generator=g).item()\n",
    "            context = context[1:] + [ix]\n",
    "            out.append(itos[ix])\n",
    "            if ix == 0:\n",
    "                break\n",
    "\n",
    "        print(''.join(out))\n",
    "\n",
    "sample(parameters, 20)"
   ]
  },
  {
   "cell_type": "code",
   "execution_count": null,
   "metadata": {},
   "outputs": [],
   "source": []
  }
 ],
 "metadata": {
  "kernelspec": {
   "display_name": "pyenv",
   "language": "python",
   "name": "python3"
  },
  "language_info": {
   "codemirror_mode": {
    "name": "ipython",
    "version": 3
   },
   "file_extension": ".py",
   "mimetype": "text/x-python",
   "name": "python",
   "nbconvert_exporter": "python",
   "pygments_lexer": "ipython3",
   "version": "3.12.5"
  }
 },
 "nbformat": 4,
 "nbformat_minor": 2
}
