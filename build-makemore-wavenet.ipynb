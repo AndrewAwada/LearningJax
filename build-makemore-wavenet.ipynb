{
 "cells": [
  {
   "cell_type": "code",
   "execution_count": 1,
   "metadata": {},
   "outputs": [],
   "source": [
    "import jax\n",
    "import jax.numpy as jnp\n",
    "from jax.tree_util import tree_flatten, tree_unflatten, register_pytree_node\n",
    "from jax import random, grad, jit, vmap, nn, value_and_grad\n",
    "from jax.scipy.special import logsumexp\n",
    "import random as r\n",
    "import matplotlib.pyplot as plt\n",
    "%matplotlib inline"
   ]
  },
  {
   "cell_type": "code",
   "execution_count": 2,
   "metadata": {},
   "outputs": [
    {
     "name": "stdout",
     "output_type": "stream",
     "text": [
      "32033\n",
      "15\n",
      "['emma', 'olivia', 'ava', 'isabella', 'sophia', 'charlotte', 'mia', 'amelia']\n"
     ]
    }
   ],
   "source": [
    "# read in all the words\n",
    "words = open('names.txt', 'r').read().splitlines()\n",
    "print(len(words))\n",
    "print(max(len(w) for w in words))\n",
    "print(words[:8])"
   ]
  },
  {
   "cell_type": "code",
   "execution_count": 3,
   "metadata": {},
   "outputs": [
    {
     "name": "stdout",
     "output_type": "stream",
     "text": [
      "{1: 'a', 2: 'b', 3: 'c', 4: 'd', 5: 'e', 6: 'f', 7: 'g', 8: 'h', 9: 'i', 10: 'j', 11: 'k', 12: 'l', 13: 'm', 14: 'n', 15: 'o', 16: 'p', 17: 'q', 18: 'r', 19: 's', 20: 't', 21: 'u', 22: 'v', 23: 'w', 24: 'x', 25: 'y', 26: 'z', 0: '.'}\n",
      "27\n"
     ]
    }
   ],
   "source": [
    "# build the vocabulary of characters and mappings to/from integers\n",
    "chars = sorted(list(set(''.join(words))))\n",
    "stoi = {s:i+1 for i,s in enumerate(chars)}\n",
    "stoi['.'] = 0\n",
    "itos = {i:s for s,i in stoi.items()}\n",
    "vocab_size = len(itos)\n",
    "print(itos)\n",
    "print(vocab_size)"
   ]
  },
  {
   "cell_type": "code",
   "execution_count": 4,
   "metadata": {},
   "outputs": [],
   "source": [
    "# shuffle up the words\n",
    "import random as r\n",
    "r.seed(42)\n",
    "r.shuffle(words)"
   ]
  },
  {
   "cell_type": "code",
   "execution_count": 5,
   "metadata": {},
   "outputs": [
    {
     "name": "stdout",
     "output_type": "stream",
     "text": [
      "(182625, 8) (182625,)\n",
      "(22655, 8) (22655,)\n",
      "(22866, 8) (22866,)\n"
     ]
    }
   ],
   "source": [
    "# build the dataset\n",
    "block_size = 8 # context length: how many characters do we take to predict the next one?\n",
    "\n",
    "def build_dataset(words):  \n",
    "  X, Y = [], []\n",
    "  \n",
    "  for w in words:\n",
    "    context = [0] * block_size\n",
    "    for ch in w + '.':\n",
    "      ix = stoi[ch]\n",
    "      X.append(context)\n",
    "      Y.append(ix)\n",
    "      context = context[1:] + [ix] # crop and append\n",
    "\n",
    "  X = jnp.array(X)\n",
    "  Y = jnp.array(Y)\n",
    "  print(X.shape, Y.shape)\n",
    "  return X, Y\n",
    "\n",
    "n1 = int(0.8*len(words))\n",
    "n2 = int(0.9*len(words))\n",
    "Xtr,  Ytr  = build_dataset(words[:n1])     # 80%\n",
    "Xdev, Ydev = build_dataset(words[n1:n2])   # 10%\n",
    "Xte,  Yte  = build_dataset(words[n2:])     # 10%"
   ]
  },
  {
   "cell_type": "code",
   "execution_count": 6,
   "metadata": {},
   "outputs": [
    {
     "name": "stdout",
     "output_type": "stream",
     "text": [
      "........ --> y\n",
      ".......y --> u\n",
      "......yu --> h\n",
      ".....yuh --> e\n",
      "....yuhe --> n\n",
      "...yuhen --> g\n",
      "..yuheng --> .\n",
      "........ --> d\n",
      ".......d --> i\n",
      "......di --> o\n",
      ".....dio --> n\n",
      "....dion --> d\n",
      "...diond --> r\n",
      "..diondr --> e\n",
      ".diondre --> .\n",
      "........ --> x\n",
      ".......x --> a\n",
      "......xa --> v\n",
      ".....xav --> i\n",
      "....xavi --> e\n"
     ]
    }
   ],
   "source": [
    "for x,y in zip(Xtr[:20], Ytr[:20]):\n",
    "  print(''.join(itos[ix.item()] for ix in x), '-->', itos[y.item()])"
   ]
  },
  {
   "cell_type": "code",
   "execution_count": 31,
   "metadata": {},
   "outputs": [],
   "source": [
    "class Linear:\n",
    "\n",
    "    def __init__(self, fan_in, fan_out, key, bias_used=True, weight=None, bias=None):\n",
    "        key, _ = random.split(key)\n",
    "        self.key = key\n",
    "\n",
    "        if weight != None:\n",
    "            self.weight = weight\n",
    "            self.bias = bias\n",
    "        else:\n",
    "            self.weight = random.normal(key, (fan_in, fan_out)) / fan_in**0.5\n",
    "            self.bias = jnp.zeros(fan_out) if bias_used else None\n",
    "\n",
    "    def __call__(self, x):\n",
    "        self.out = x @ self.weight\n",
    "        if self.bias is not None:\n",
    "            self.out += self.bias\n",
    "        return self.out\n",
    "    \n",
    "    def parameters(self):\n",
    "        return [self.weight] + ([] if self.bias is None else [self.bias])\n",
    "    \n",
    "\n",
    "class BatchNorm1d:\n",
    "\n",
    "    def __init__(self, dim, eps=1e-5, momentum=0.1, gamma=None, beta=None):\n",
    "        self.eps = eps\n",
    "        self.momentum = momentum\n",
    "        self.training = True\n",
    "        # parameters (trained with backprop)\n",
    "        if gamma != None and beta != None:\n",
    "            self.gamma = gamma\n",
    "            self.beta = beta\n",
    "        else:\n",
    "            self.gamma = jnp.ones(dim)\n",
    "            self.beta = jnp.zeros(dim)\n",
    "        # buffers (trained with a running momentum update)\n",
    "        self.running_mean = jnp.zeros(dim)\n",
    "        self.running_var = jnp.ones(dim)\n",
    "\n",
    "    def __call__(self, x):\n",
    "        if self.training:\n",
    "            xmean = jnp.mean(x, keepdims=True) # batch mean\n",
    "            xvar = jnp.std(x, keepdims=True) + self.eps # batch variance\n",
    "        else:\n",
    "            xmean = self.running_mean\n",
    "            xvar = self.running_var\n",
    "        xhat = (x - xmean) / jnp.sqrt(xvar) # normalize to unit variance\n",
    "        self.out = self.gamma * xhat + self.beta\n",
    "        # update the buffers\n",
    "        if self.training:\n",
    "            self.running_mean = (1 - self.momentum) * self.running_mean + self.momentum * xmean\n",
    "            self.running_var = (1 - self.momentum) * self.running_var + self.momentum * xvar\n",
    "        return self.out\n",
    "    \n",
    "    def parameters(self):\n",
    "        return [self.gamma, self.beta]\n",
    "    \n",
    "\n",
    "class Tanh:\n",
    "    def __call__(self, x):\n",
    "        self.out = jnp.tanh(x)\n",
    "        return self.out\n",
    "    \n",
    "    def parameters(self):\n",
    "        return []\n",
    "    \n",
    "\n",
    "class Embedding:\n",
    "    def __init__(self, num_embeddings, embedding_dim, key, weight=None):\n",
    "        key, _ = random.split(key)\n",
    "        self.key = key\n",
    "\n",
    "        if weight != None:\n",
    "            self.weight = weight\n",
    "        else:\n",
    "            self.weight = random.normal(key, (num_embeddings, embedding_dim))\n",
    "    \n",
    "    def __call__(self, IX):\n",
    "        self.out = self.weight[IX]\n",
    "        return self.out\n",
    "    \n",
    "    def parameters(self):\n",
    "        return [self.weight]\n",
    "    \n",
    "\n",
    "class Flatten:\n",
    "    def __call__(self, x):\n",
    "        self.out = jnp.reshape(x, (x.shape[0], -1))\n",
    "        return self.out\n",
    "    \n",
    "    def parameters(self):\n",
    "        return []\n"
   ]
  },
  {
   "cell_type": "code",
   "execution_count": 32,
   "metadata": {},
   "outputs": [],
   "source": [
    "register_pytree_node(Linear, lambda l: ((l.weight, l.bias), l.key),\n",
    "                             lambda aux, xs: Linear(xs[0].shape[0], xs[0].shape[1], aux, weight=xs[0], bias=xs[1]))\n",
    "register_pytree_node(BatchNorm1d, lambda l: ((l.gamma, l.beta), None),\n",
    "                                  lambda aux, xs: BatchNorm1d(len(xs[0]), gamma=xs[0], beta=xs[1]))\n",
    "register_pytree_node(Tanh, lambda l: ((), None), lambda _, xs: Tanh())\n",
    "register_pytree_node(Embedding, lambda l: ((l.weight, ), l.key),\n",
    "                                lambda aux, xs: Embedding(xs[0].shape[0], xs[0].shape[1], aux, weight=xs[0]))\n",
    "register_pytree_node(Flatten, lambda l: ((), None), lambda _, xs: Flatten())"
   ]
  },
  {
   "cell_type": "code",
   "execution_count": 33,
   "metadata": {},
   "outputs": [
    {
     "name": "stdout",
     "output_type": "stream",
     "text": [
      "6\n"
     ]
    },
    {
     "data": {
      "text/plain": [
       "11197"
      ]
     },
     "execution_count": 33,
     "metadata": {},
     "output_type": "execute_result"
    }
   ],
   "source": [
    "n_embd = 10\n",
    "n_hidden = 100\n",
    "key = random.PRNGKey(10)\n",
    "\n",
    "layers = [\n",
    "    Embedding(vocab_size, n_embd, key), Flatten(),\n",
    "    Linear(n_embd * block_size, n_hidden, key, bias_used=False), BatchNorm1d(n_hidden), Tanh(),\n",
    "    Linear(n_hidden, vocab_size, key),\n",
    "]\n",
    "\n",
    "# make the last layer less confident\n",
    "# layers[-1].weight *= 0.1\n",
    "layers[-1].weight *= 0.1\n",
    "# apply the gain to all the other layers\n",
    "for layer in layers[:-1]:\n",
    "    if isinstance(layer, Linear):\n",
    "        layer.weight *= 5/3\n",
    "\n",
    "parameters = [p for layer in layers for p in layer.parameters()]\n",
    "params, _ = tree_flatten(parameters)\n",
    "print(len(params))\n",
    "sum(jnp.size(p) for p in params)"
   ]
  },
  {
   "cell_type": "code",
   "execution_count": 34,
   "metadata": {},
   "outputs": [],
   "source": [
    "def predict(layers, x):\n",
    "    for layer in layers:\n",
    "        x = layer(x)\n",
    "    return x\n",
    "\n",
    "def cross_entropy_loss(layers, X, Y):\n",
    "    logits = predict(layers, X)\n",
    "    counts = jnp.exp(logits - logsumexp(logits, axis=1, keepdims=True)) # logits - logsumexp(logits) ensures that there aren't overflow errors\n",
    "    probs = counts / jnp.sum(counts, 1, keepdims=True)\n",
    "    def get_idx(prob, y):\n",
    "        return -jnp.log(prob[y])\n",
    "    vectorized_probs = vmap(get_idx)(probs, Y)\n",
    "    return vectorized_probs.mean()\n",
    "\n",
    "def update(layers, X, Y, lr=0.1):\n",
    "    value, grads = value_and_grad(cross_entropy_loss)(layers, X, Y)\n",
    "    for l, g in zip(layers, grads[1]):\n",
    "        if isinstance(l, Embedding):\n",
    "            l.weight = l.weight - lr * g.weight\n",
    "        elif isinstance(l, Linear):\n",
    "            l.weight = l.weight - lr * g.weight\n",
    "            if l.bias is not None: l.bias = l.bias - lr * g.bias\n",
    "        elif isinstance(l, BatchNorm1d):\n",
    "            l.gamma = l.gamma - lr * g.gamma\n",
    "            l.beta = l.beta - lr * g.beta\n",
    "    return value, layers"
   ]
  },
  {
   "cell_type": "code",
   "execution_count": 35,
   "metadata": {},
   "outputs": [
    {
     "ename": "IndexError",
     "evalue": "tuple index out of range",
     "output_type": "error",
     "traceback": [
      "\u001b[0;31m---------------------------------------------------------------------------\u001b[0m",
      "\u001b[0;31mIndexError\u001b[0m                                Traceback (most recent call last)",
      "Cell \u001b[0;32mIn[35], line 13\u001b[0m\n\u001b[1;32m     11\u001b[0m lr \u001b[38;5;241m=\u001b[39m \u001b[38;5;241m0.1\u001b[39m \u001b[38;5;28;01mif\u001b[39;00m i \u001b[38;5;241m<\u001b[39m epochs\u001b[38;5;241m/\u001b[39m\u001b[38;5;241m2\u001b[39m \u001b[38;5;28;01melse\u001b[39;00m \u001b[38;5;241m0.01\u001b[39m\n\u001b[1;32m     12\u001b[0m \u001b[38;5;66;03m# out = predict(layers, Xb)\u001b[39;00m\n\u001b[0;32m---> 13\u001b[0m loss, layers \u001b[38;5;241m=\u001b[39m \u001b[43mupdate\u001b[49m\u001b[43m(\u001b[49m\u001b[43mlayers\u001b[49m\u001b[43m,\u001b[49m\u001b[43m \u001b[49m\u001b[43mXb\u001b[49m\u001b[43m,\u001b[49m\u001b[43m \u001b[49m\u001b[43mYb\u001b[49m\u001b[43m)\u001b[49m\n\u001b[1;32m     15\u001b[0m \u001b[38;5;28;01mif\u001b[39;00m i \u001b[38;5;241m%\u001b[39m \u001b[38;5;241m1000\u001b[39m \u001b[38;5;241m==\u001b[39m \u001b[38;5;241m0\u001b[39m:\n\u001b[1;32m     16\u001b[0m     \u001b[38;5;28mprint\u001b[39m(\u001b[38;5;124mf\u001b[39m\u001b[38;5;124m'\u001b[39m\u001b[38;5;132;01m{\u001b[39;00mi\u001b[38;5;132;01m:\u001b[39;00m\u001b[38;5;124m7d\u001b[39m\u001b[38;5;132;01m}\u001b[39;00m\u001b[38;5;124m/\u001b[39m\u001b[38;5;132;01m{\u001b[39;00mepochs\u001b[38;5;132;01m:\u001b[39;00m\u001b[38;5;124m7d\u001b[39m\u001b[38;5;132;01m}\u001b[39;00m\u001b[38;5;124m: \u001b[39m\u001b[38;5;132;01m{\u001b[39;00mloss\u001b[38;5;241m.\u001b[39mitem()\u001b[38;5;132;01m:\u001b[39;00m\u001b[38;5;124m.4f\u001b[39m\u001b[38;5;132;01m}\u001b[39;00m\u001b[38;5;124m'\u001b[39m)\n",
      "Cell \u001b[0;32mIn[34], line 16\u001b[0m, in \u001b[0;36mupdate\u001b[0;34m(layers, X, Y, lr)\u001b[0m\n\u001b[1;32m     15\u001b[0m \u001b[38;5;28;01mdef\u001b[39;00m \u001b[38;5;21mupdate\u001b[39m(layers, X, Y, lr\u001b[38;5;241m=\u001b[39m\u001b[38;5;241m0.1\u001b[39m):\n\u001b[0;32m---> 16\u001b[0m     value, grads \u001b[38;5;241m=\u001b[39m \u001b[43mvalue_and_grad\u001b[49m\u001b[43m(\u001b[49m\u001b[43mcross_entropy_loss\u001b[49m\u001b[43m)\u001b[49m\u001b[43m(\u001b[49m\u001b[43mlayers\u001b[49m\u001b[43m,\u001b[49m\u001b[43m \u001b[49m\u001b[43mX\u001b[49m\u001b[43m,\u001b[49m\u001b[43m \u001b[49m\u001b[43mY\u001b[49m\u001b[43m)\u001b[49m\n\u001b[1;32m     17\u001b[0m     \u001b[38;5;28;01mfor\u001b[39;00m l, g \u001b[38;5;129;01min\u001b[39;00m \u001b[38;5;28mzip\u001b[39m(layers, grads[\u001b[38;5;241m1\u001b[39m]):\n\u001b[1;32m     18\u001b[0m         \u001b[38;5;28;01mif\u001b[39;00m \u001b[38;5;28misinstance\u001b[39m(l, Embedding):\n",
      "    \u001b[0;31m[... skipping hidden 10 frame]\u001b[0m\n",
      "Cell \u001b[0;32mIn[32], line 7\u001b[0m, in \u001b[0;36m<lambda>\u001b[0;34m(aux, xs)\u001b[0m\n\u001b[1;32m      3\u001b[0m register_pytree_node(BatchNorm1d, \u001b[38;5;28;01mlambda\u001b[39;00m l: ((l\u001b[38;5;241m.\u001b[39mgamma, l\u001b[38;5;241m.\u001b[39mbeta), \u001b[38;5;28;01mNone\u001b[39;00m),\n\u001b[1;32m      4\u001b[0m                                   \u001b[38;5;28;01mlambda\u001b[39;00m aux, xs: BatchNorm1d(\u001b[38;5;28mlen\u001b[39m(xs[\u001b[38;5;241m0\u001b[39m]), gamma\u001b[38;5;241m=\u001b[39mxs[\u001b[38;5;241m0\u001b[39m], beta\u001b[38;5;241m=\u001b[39mxs[\u001b[38;5;241m1\u001b[39m]))\n\u001b[1;32m      5\u001b[0m register_pytree_node(Tanh, \u001b[38;5;28;01mlambda\u001b[39;00m l: ((), \u001b[38;5;28;01mNone\u001b[39;00m), \u001b[38;5;28;01mlambda\u001b[39;00m _, xs: Tanh())\n\u001b[1;32m      6\u001b[0m register_pytree_node(Embedding, \u001b[38;5;28;01mlambda\u001b[39;00m l: ((l\u001b[38;5;241m.\u001b[39mweight), l\u001b[38;5;241m.\u001b[39mkey),\n\u001b[0;32m----> 7\u001b[0m                                 \u001b[38;5;28;01mlambda\u001b[39;00m aux, xs: Embedding(xs[\u001b[38;5;241m0\u001b[39m]\u001b[38;5;241m.\u001b[39mshape[\u001b[38;5;241m0\u001b[39m], \u001b[43mxs\u001b[49m\u001b[43m[\u001b[49m\u001b[38;5;241;43m0\u001b[39;49m\u001b[43m]\u001b[49m\u001b[38;5;241;43m.\u001b[39;49m\u001b[43mshape\u001b[49m\u001b[43m[\u001b[49m\u001b[38;5;241;43m1\u001b[39;49m\u001b[43m]\u001b[49m, aux, weight\u001b[38;5;241m=\u001b[39mxs[\u001b[38;5;241m0\u001b[39m]))\n\u001b[1;32m      8\u001b[0m register_pytree_node(Flatten, \u001b[38;5;28;01mlambda\u001b[39;00m l: ((), \u001b[38;5;28;01mNone\u001b[39;00m), \u001b[38;5;28;01mlambda\u001b[39;00m _, xs: Flatten())\n",
      "\u001b[0;31mIndexError\u001b[0m: tuple index out of range"
     ]
    }
   ],
   "source": [
    "epochs = 200000\n",
    "lossi = []\n",
    "batch_size = 32\n",
    "\n",
    "for i in range(epochs):\n",
    "    # get minibatch\n",
    "    key, _ = random.split(key)\n",
    "    ix = random.randint(key, (batch_size, ), 0, Xtr.shape[0]) # create random batch indicies\n",
    "    Xb, Yb = Xtr[ix], Ytr[ix]\n",
    "\n",
    "    lr = 0.1 if i < epochs/2 else 0.01\n",
    "    # out = predict(layers, Xb)\n",
    "    loss, layers = update(layers, Xb, Yb)\n",
    "    \n",
    "    if i % 1000 == 0:\n",
    "        print(f'{i:7d}/{epochs:7d}: {loss.item():.4f}')\n",
    "    lossi.append(jnp.log10(loss).item())"
   ]
  },
  {
   "cell_type": "code",
   "execution_count": 13,
   "metadata": {},
   "outputs": [
    {
     "data": {
      "text/plain": [
       "[<matplotlib.lines.Line2D at 0x13f2a8ce0>]"
      ]
     },
     "execution_count": 13,
     "metadata": {},
     "output_type": "execute_result"
    },
    {
     "data": {
      "image/png": "[encoded data removed]",
      "text/plain": [
       "<Figure size 640x480 with 1 Axes>"
      ]
     },
     "metadata": {},
     "output_type": "display_data"
    }
   ],
   "source": [
    "plt.plot(lossi)"
   ]
  },
  {
   "cell_type": "code",
   "execution_count": 14,
   "metadata": {},
   "outputs": [
    {
     "data": {
      "text/plain": [
       "[<matplotlib.lines.Line2D at 0x13eadd130>]"
      ]
     },
     "execution_count": 14,
     "metadata": {},
     "output_type": "execute_result"
    },
    {
     "data": {
      "image/png": "[encoded data removed]",
      "text/plain": [
       "<Figure size 640x480 with 1 Axes>"
      ]
     },
     "metadata": {},
     "output_type": "display_data"
    }
   ],
   "source": [
    "# First, we make the plot nicer by plotting the average loss every 1000 steps\n",
    "plt.plot(jnp.mean(jnp.reshape(jnp.array(lossi), (-1, 1000)), axis=1))"
   ]
  },
  {
   "cell_type": "code",
   "execution_count": 15,
   "metadata": {},
   "outputs": [
    {
     "name": "stdout",
     "output_type": "stream",
     "text": [
      "train 2.33725643157959\n",
      "val 2.33725643157959\n"
     ]
    }
   ],
   "source": [
    "# evaluate the loss\n",
    "def split_loss(split):\n",
    "  x,y = {\n",
    "    'train': (Xtr, Ytr),\n",
    "    'val': (Xdev, Ydev),\n",
    "    'test': (Xte, Yte),\n",
    "  }[split]\n",
    "  cross_entropy_loss(layers, x, y)\n",
    "  print(split, loss.item())\n",
    "\n",
    "split_loss('train')\n",
    "split_loss('val')"
   ]
  },
  {
   "cell_type": "code",
   "execution_count": 17,
   "metadata": {},
   "outputs": [
    {
     "name": "stdout",
     "output_type": "stream",
     "text": [
      "cexzen.\n",
      "jallus.\n",
      "johziel.\n",
      "kellynn.\n",
      "train.\n",
      "lucan.\n",
      "katar.\n",
      "samiyah.\n",
      "jahsiyah.\n",
      "zimic.\n",
      "jenanius.\n",
      "fraedy.\n",
      "kaleysa.\n",
      "sadly.\n",
      "tiavi.\n",
      "nyhatlyn.\n",
      "hunten.\n",
      "viah.\n",
      "koudy.\n",
      "fradin.\n"
     ]
    }
   ],
   "source": [
    "import torch\n",
    "g = torch.Generator().manual_seed(2147483647)\n",
    "\n",
    "def sample(parameters, num_words=5):\n",
    "    for i in range(num_words):\n",
    "        out = []\n",
    "        context = [0] * block_size # Initialize to ... (all state tokens)\n",
    "        while True:\n",
    "            logits = predict(layers, jnp.array(context).reshape(1, -1))\n",
    "            probs = nn.softmax(logits, axis=1)\n",
    "\n",
    "            ix = torch.multinomial(torch.tensor(probs.tolist()), num_samples=1, replacement=True, generator=g).item()\n",
    "            context = context[1:] + [ix]\n",
    "            out.append(itos[ix])\n",
    "            if ix == 0:\n",
    "                break\n",
    "\n",
    "        print(''.join(out))\n",
    "\n",
    "sample(parameters, 20)"
   ]
  }
 ],
 "metadata": {
  "kernelspec": {
   "display_name": "pyenv",
   "language": "python",
   "name": "python3"
  },
  "language_info": {
   "codemirror_mode": {
    "name": "ipython",
    "version": 3
   },
   "file_extension": ".py",
   "mimetype": "text/x-python",
   "name": "python",
   "nbconvert_exporter": "python",
   "pygments_lexer": "ipython3",
   "version": "3.12.5"
  }
 },
 "nbformat": 4,
 "nbformat_minor": 2
}
