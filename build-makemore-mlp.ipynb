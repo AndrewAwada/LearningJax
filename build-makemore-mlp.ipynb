{
 "cells": [
  {
   "cell_type": "code",
   "execution_count": 143,
   "metadata": {},
   "outputs": [],
   "source": [
    "import jax.numpy as jnp\n",
    "from jax.tree_util import tree_flatten, tree_unflatten\n",
    "from jax import random, grad, jit, vmap, nn\n",
    "from jax.scipy.special import logsumexp\n",
    "import random as r\n",
    "import matplotlib.pyplot as plt\n",
    "%matplotlib inline"
   ]
  },
  {
   "cell_type": "code",
   "execution_count": 2,
   "metadata": {},
   "outputs": [
    {
     "data": {
      "text/plain": [
       "['emma', 'olivia', 'ava', 'isabella', 'sophia', 'charlotte', 'mia', 'amelia']"
      ]
     },
     "execution_count": 2,
     "metadata": {},
     "output_type": "execute_result"
    }
   ],
   "source": [
    "words = open('names.txt', 'r').read().splitlines()\n",
    "words[:8]"
   ]
  },
  {
   "cell_type": "code",
   "execution_count": 3,
   "metadata": {},
   "outputs": [
    {
     "data": {
      "text/plain": [
       "32033"
      ]
     },
     "execution_count": 3,
     "metadata": {},
     "output_type": "execute_result"
    }
   ],
   "source": [
    "len(words)"
   ]
  },
  {
   "cell_type": "code",
   "execution_count": 4,
   "metadata": {},
   "outputs": [
    {
     "name": "stdout",
     "output_type": "stream",
     "text": [
      "{1: 'a', 2: 'b', 3: 'c', 4: 'd', 5: 'e', 6: 'f', 7: 'g', 8: 'h', 9: 'i', 10: 'j', 11: 'k', 12: 'l', 13: 'm', 14: 'n', 15: 'o', 16: 'p', 17: 'q', 18: 'r', 19: 's', 20: 't', 21: 'u', 22: 'v', 23: 'w', 24: 'x', 25: 'y', 26: 'z', 0: '.'}\n"
     ]
    }
   ],
   "source": [
    "# build the vocab mapping from char to int and vice versa\n",
    "chars = sorted(list(set(''.join(words))))\n",
    "stoi = {s:i+1 for i,s in enumerate(chars)}\n",
    "stoi['.'] = 0\n",
    "itos = {i:s for s,i in stoi.items()}\n",
    "print(itos)"
   ]
  },
  {
   "cell_type": "code",
   "execution_count": 5,
   "metadata": {},
   "outputs": [
    {
     "name": "stdout",
     "output_type": "stream",
     "text": [
      "emma\n",
      "... ---> e\n",
      "..e ---> m\n",
      ".em ---> m\n",
      "emm ---> a\n",
      "mma ---> .\n",
      "olivia\n",
      "... ---> o\n",
      "..o ---> l\n",
      ".ol ---> i\n",
      "oli ---> v\n",
      "liv ---> i\n",
      "ivi ---> a\n",
      "via ---> .\n",
      "ava\n",
      "... ---> a\n",
      "..a ---> v\n",
      ".av ---> a\n",
      "ava ---> .\n",
      "isabella\n",
      "... ---> i\n",
      "..i ---> s\n",
      ".is ---> a\n",
      "isa ---> b\n",
      "sab ---> e\n",
      "abe ---> l\n",
      "bel ---> l\n",
      "ell ---> a\n",
      "lla ---> .\n",
      "sophia\n",
      "... ---> s\n",
      "..s ---> o\n",
      ".so ---> p\n",
      "sop ---> h\n",
      "oph ---> i\n",
      "phi ---> a\n",
      "hia ---> .\n"
     ]
    }
   ],
   "source": [
    "# build the dataset\n",
    "\n",
    "block_size = 3 # context length: how many characters do we take to predict the next one?\n",
    "X, Y = [], []\n",
    "\n",
    "for w in words[:5]:\n",
    "    print(w)\n",
    "\n",
    "    context = [0] * block_size\n",
    "    for ch in w + '.':\n",
    "        ix = stoi[ch]\n",
    "        X.append(context)\n",
    "        Y.append(ix)\n",
    "\n",
    "        print(''.join(itos[i] for i in context), '--->', itos[ix])\n",
    "        context = context[1:] + [ix]\n",
    "\n",
    "X = jnp.array(X)\n",
    "Y = jnp.array(Y)"
   ]
  },
  {
   "cell_type": "code",
   "execution_count": 6,
   "metadata": {},
   "outputs": [
    {
     "data": {
      "text/plain": [
       "((32, 3), (32,), dtype('int32'), dtype('int32'))"
      ]
     },
     "execution_count": 6,
     "metadata": {},
     "output_type": "execute_result"
    }
   ],
   "source": [
    "X.shape, Y.shape, X.dtype, Y.dtype"
   ]
  },
  {
   "cell_type": "code",
   "execution_count": 9,
   "metadata": {},
   "outputs": [],
   "source": [
    "key = random.PRNGKey(10)\n",
    "C = random.normal(key, (27, 2))"
   ]
  },
  {
   "cell_type": "code",
   "execution_count": 10,
   "metadata": {},
   "outputs": [
    {
     "data": {
      "text/plain": [
       "Array([0.7563773, 1.440487 ], dtype=float32)"
      ]
     },
     "execution_count": 10,
     "metadata": {},
     "output_type": "execute_result"
    }
   ],
   "source": [
    "C[5]"
   ]
  },
  {
   "cell_type": "code",
   "execution_count": 11,
   "metadata": {},
   "outputs": [
    {
     "data": {
      "text/plain": [
       "Array([0.7563773, 1.440487 ], dtype=float32)"
      ]
     },
     "execution_count": 11,
     "metadata": {},
     "output_type": "execute_result"
    }
   ],
   "source": [
    "nn.one_hot(x=jnp.array(5), num_classes=27, dtype=jnp.float32) @ C"
   ]
  },
  {
   "cell_type": "code",
   "execution_count": 12,
   "metadata": {},
   "outputs": [
    {
     "data": {
      "text/plain": [
       "Array([[[ 0.3976291 , -0.92553115],\n",
       "        [ 0.3976291 , -0.92553115],\n",
       "        [ 0.3976291 , -0.92553115]],\n",
       "\n",
       "       [[ 0.3976291 , -0.92553115],\n",
       "        [ 0.3976291 , -0.92553115],\n",
       "        [ 0.7563773 ,  1.440487  ]],\n",
       "\n",
       "       [[ 0.3976291 , -0.92553115],\n",
       "        [ 0.7563773 ,  1.440487  ],\n",
       "        [-1.1102754 ,  0.42526308]],\n",
       "\n",
       "       [[ 0.7563773 ,  1.440487  ],\n",
       "        [-1.1102754 ,  0.42526308],\n",
       "        [-1.1102754 ,  0.42526308]],\n",
       "\n",
       "       [[-1.1102754 ,  0.42526308],\n",
       "        [-1.1102754 ,  0.42526308],\n",
       "        [-0.8551027 , -1.1744124 ]],\n",
       "\n",
       "       [[ 0.3976291 , -0.92553115],\n",
       "        [ 0.3976291 , -0.92553115],\n",
       "        [ 0.3976291 , -0.92553115]],\n",
       "\n",
       "       [[ 0.3976291 , -0.92553115],\n",
       "        [ 0.3976291 , -0.92553115],\n",
       "        [-1.8809125 ,  0.4962055 ]],\n",
       "\n",
       "       [[ 0.3976291 , -0.92553115],\n",
       "        [-1.8809125 ,  0.4962055 ],\n",
       "        [-1.4253994 ,  1.8203468 ]],\n",
       "\n",
       "       [[-1.8809125 ,  0.4962055 ],\n",
       "        [-1.4253994 ,  1.8203468 ],\n",
       "        [ 0.20761481,  0.4950672 ]],\n",
       "\n",
       "       [[-1.4253994 ,  1.8203468 ],\n",
       "        [ 0.20761481,  0.4950672 ],\n",
       "        [-1.3597789 ,  0.1341879 ]],\n",
       "\n",
       "       [[ 0.20761481,  0.4950672 ],\n",
       "        [-1.3597789 ,  0.1341879 ],\n",
       "        [ 0.20761481,  0.4950672 ]],\n",
       "\n",
       "       [[-1.3597789 ,  0.1341879 ],\n",
       "        [ 0.20761481,  0.4950672 ],\n",
       "        [-0.8551027 , -1.1744124 ]],\n",
       "\n",
       "       [[ 0.3976291 , -0.92553115],\n",
       "        [ 0.3976291 , -0.92553115],\n",
       "        [ 0.3976291 , -0.92553115]],\n",
       "\n",
       "       [[ 0.3976291 , -0.92553115],\n",
       "        [ 0.3976291 , -0.92553115],\n",
       "        [-0.8551027 , -1.1744124 ]],\n",
       "\n",
       "       [[ 0.3976291 , -0.92553115],\n",
       "        [-0.8551027 , -1.1744124 ],\n",
       "        [-1.3597789 ,  0.1341879 ]],\n",
       "\n",
       "       [[-0.8551027 , -1.1744124 ],\n",
       "        [-1.3597789 ,  0.1341879 ],\n",
       "        [-0.8551027 , -1.1744124 ]],\n",
       "\n",
       "       [[ 0.3976291 , -0.92553115],\n",
       "        [ 0.3976291 , -0.92553115],\n",
       "        [ 0.3976291 , -0.92553115]],\n",
       "\n",
       "       [[ 0.3976291 , -0.92553115],\n",
       "        [ 0.3976291 , -0.92553115],\n",
       "        [ 0.20761481,  0.4950672 ]],\n",
       "\n",
       "       [[ 0.3976291 , -0.92553115],\n",
       "        [ 0.20761481,  0.4950672 ],\n",
       "        [-0.28914362, -2.2305224 ]],\n",
       "\n",
       "       [[ 0.20761481,  0.4950672 ],\n",
       "        [-0.28914362, -2.2305224 ],\n",
       "        [-0.8551027 , -1.1744124 ]],\n",
       "\n",
       "       [[-0.28914362, -2.2305224 ],\n",
       "        [-0.8551027 , -1.1744124 ],\n",
       "        [ 1.8507328 ,  0.1495926 ]],\n",
       "\n",
       "       [[-0.8551027 , -1.1744124 ],\n",
       "        [ 1.8507328 ,  0.1495926 ],\n",
       "        [ 0.7563773 ,  1.440487  ]],\n",
       "\n",
       "       [[ 1.8507328 ,  0.1495926 ],\n",
       "        [ 0.7563773 ,  1.440487  ],\n",
       "        [-1.4253994 ,  1.8203468 ]],\n",
       "\n",
       "       [[ 0.7563773 ,  1.440487  ],\n",
       "        [-1.4253994 ,  1.8203468 ],\n",
       "        [-1.4253994 ,  1.8203468 ]],\n",
       "\n",
       "       [[-1.4253994 ,  1.8203468 ],\n",
       "        [-1.4253994 ,  1.8203468 ],\n",
       "        [-0.8551027 , -1.1744124 ]],\n",
       "\n",
       "       [[ 0.3976291 , -0.92553115],\n",
       "        [ 0.3976291 , -0.92553115],\n",
       "        [ 0.3976291 , -0.92553115]],\n",
       "\n",
       "       [[ 0.3976291 , -0.92553115],\n",
       "        [ 0.3976291 , -0.92553115],\n",
       "        [-0.28914362, -2.2305224 ]],\n",
       "\n",
       "       [[ 0.3976291 , -0.92553115],\n",
       "        [-0.28914362, -2.2305224 ],\n",
       "        [-1.8809125 ,  0.4962055 ]],\n",
       "\n",
       "       [[-0.28914362, -2.2305224 ],\n",
       "        [-1.8809125 ,  0.4962055 ],\n",
       "        [-1.5884944 ,  0.46535364]],\n",
       "\n",
       "       [[-1.8809125 ,  0.4962055 ],\n",
       "        [-1.5884944 ,  0.46535364],\n",
       "        [-1.0829828 , -0.20416938]],\n",
       "\n",
       "       [[-1.5884944 ,  0.46535364],\n",
       "        [-1.0829828 , -0.20416938],\n",
       "        [ 0.20761481,  0.4950672 ]],\n",
       "\n",
       "       [[-1.0829828 , -0.20416938],\n",
       "        [ 0.20761481,  0.4950672 ],\n",
       "        [-0.8551027 , -1.1744124 ]]], dtype=float32)"
      ]
     },
     "execution_count": 12,
     "metadata": {},
     "output_type": "execute_result"
    }
   ],
   "source": [
    "C[X]"
   ]
  },
  {
   "cell_type": "code",
   "execution_count": 16,
   "metadata": {},
   "outputs": [],
   "source": [
    "W1 = random.normal(key, (6, 100))\n",
    "b1 = random.normal(key, (100, ))"
   ]
  },
  {
   "cell_type": "code",
   "execution_count": 27,
   "metadata": {},
   "outputs": [
    {
     "name": "stdout",
     "output_type": "stream",
     "text": [
      "C.shape=(27, 2)\n",
      "X.shape=(32, 3)\n",
      "emb.shape=(32, 3, 2)\n"
     ]
    }
   ],
   "source": [
    "emb = C[X]\n",
    "print(f'{C.shape=}')\n",
    "print(f'{X.shape=}')\n",
    "print(f'{emb.shape=}')"
   ]
  },
  {
   "cell_type": "code",
   "execution_count": 38,
   "metadata": {},
   "outputs": [
    {
     "data": {
      "text/plain": [
       "(32, 6)"
      ]
     },
     "execution_count": 38,
     "metadata": {},
     "output_type": "execute_result"
    }
   ],
   "source": [
    "emb_nn = jnp.reshape(emb, (-1, emb.shape[1] * emb.shape[2]))\n",
    "emb_nn.shape"
   ]
  },
  {
   "cell_type": "code",
   "execution_count": 36,
   "metadata": {},
   "outputs": [
    {
     "data": {
      "text/plain": [
       "(32, 6)"
      ]
     },
     "execution_count": 36,
     "metadata": {},
     "output_type": "execute_result"
    }
   ],
   "source": [
    "emb_nn_alt = jnp.concat([emb[:, 0, :], emb[:, 1, :], emb[:, 2, :]], axis=1)\n",
    "emb_nn_alt.shape"
   ]
  },
  {
   "cell_type": "code",
   "execution_count": 39,
   "metadata": {},
   "outputs": [
    {
     "data": {
      "text/plain": [
       "(32, 100)"
      ]
     },
     "execution_count": 39,
     "metadata": {},
     "output_type": "execute_result"
    }
   ],
   "source": [
    "h = emb_nn @ W1 + b1\n",
    "h.shape"
   ]
  },
  {
   "cell_type": "code",
   "execution_count": 40,
   "metadata": {},
   "outputs": [],
   "source": [
    "W2 = random.normal(key, (100, 27))\n",
    "b2 = random.normal(key, (27, ))"
   ]
  },
  {
   "cell_type": "code",
   "execution_count": 41,
   "metadata": {},
   "outputs": [
    {
     "data": {
      "text/plain": [
       "(32, 27)"
      ]
     },
     "execution_count": 41,
     "metadata": {},
     "output_type": "execute_result"
    }
   ],
   "source": [
    "logits = h @ W2 + b2\n",
    "logits.shape"
   ]
  },
  {
   "cell_type": "code",
   "execution_count": 42,
   "metadata": {},
   "outputs": [],
   "source": [
    "counts = jnp.exp(logits)"
   ]
  },
  {
   "cell_type": "code",
   "execution_count": 45,
   "metadata": {},
   "outputs": [
    {
     "name": "stdout",
     "output_type": "stream",
     "text": [
      "probs.shape=(32, 27)\n"
     ]
    }
   ],
   "source": [
    "probs = counts / jnp.sum(counts, 1, keepdims=True)\n",
    "print(f'{probs.shape=}')"
   ]
  },
  {
   "cell_type": "code",
   "execution_count": 82,
   "metadata": {},
   "outputs": [],
   "source": [
    "# MAKE CODE CLEANER ------------------------------"
   ]
  },
  {
   "cell_type": "code",
   "execution_count": 242,
   "metadata": {},
   "outputs": [],
   "source": [
    "# Setup:\n",
    "BLOCK_SIZE = 3 # context length: how many characters do we take to predict the next one?\n",
    "VOCAB_SIZE = 27\n",
    "NUM_FEATURES = 10\n",
    "IN_SIZE = BLOCK_SIZE * NUM_FEATURES\n",
    "L1_SIZE = 200\n",
    "OUT_SIZE = VOCAB_SIZE\n"
   ]
  },
  {
   "cell_type": "code",
   "execution_count": 243,
   "metadata": {},
   "outputs": [],
   "source": [
    "# build the dataset\n",
    "\n",
    "def create_dataset(words):\n",
    "    X, Y = [], []\n",
    "\n",
    "    for w in words:\n",
    "        context = [0] * BLOCK_SIZE\n",
    "\n",
    "        for ch in w + '.':\n",
    "            ix = stoi[ch]\n",
    "            X.append(context)\n",
    "            Y.append(ix)\n",
    "            context = context[1:] + [ix]\n",
    "\n",
    "    X = jnp.array(X)\n",
    "    Y = jnp.array(Y)\n",
    "    return X, Y\n",
    "\n",
    "# build a dataset of 80% train, 10% validation, and 10% test sets.\n",
    "def split_dataset(words):\n",
    "    r.seed(42)\n",
    "    r.shuffle(words)\n",
    "    n1 = int(0.8 * len(words))\n",
    "    n2 = int(0.9 * len(words))\n",
    "\n",
    "    Xtr, Ytr = create_dataset(words[:n1])\n",
    "    Xval, Yval = create_dataset(words[n1:n2])\n",
    "    Xte, Yte = create_dataset(words[n2:])\n",
    "\n",
    "    return Xtr, Ytr, Xval, Yval, Xte, Yte\n"
   ]
  },
  {
   "cell_type": "code",
   "execution_count": 244,
   "metadata": {},
   "outputs": [],
   "source": [
    "X, Y = create_dataset(words)\n",
    "X.shape, Y.shape\n",
    "\n",
    "Xtr, Ytr, Xval, Yval, Xte, Yte = split_dataset(words)"
   ]
  },
  {
   "cell_type": "code",
   "execution_count": 245,
   "metadata": {},
   "outputs": [],
   "source": [
    "C = random.normal(key, (VOCAB_SIZE, NUM_FEATURES))\n",
    "W1 = random.normal(key, (IN_SIZE, L1_SIZE))\n",
    "b1 = random.normal(key, (L1_SIZE, ))\n",
    "W2 = random.normal(key, (L1_SIZE, OUT_SIZE))\n",
    "b2 = random.normal(key, (OUT_SIZE, ))\n",
    "parameters = [C, W1, b1, W2, b2]"
   ]
  },
  {
   "cell_type": "code",
   "execution_count": 246,
   "metadata": {},
   "outputs": [
    {
     "data": {
      "text/plain": [
       "11897"
      ]
     },
     "execution_count": 246,
     "metadata": {},
     "output_type": "execute_result"
    }
   ],
   "source": [
    "params, _ = tree_flatten(parameters)\n",
    "sum(jnp.size(p) for p in params)"
   ]
  },
  {
   "cell_type": "code",
   "execution_count": 220,
   "metadata": {},
   "outputs": [],
   "source": [
    "def predict(C, W1, b1, W2, b2, X):\n",
    "    emb = C[X]\n",
    "    h = jnp.tanh(jnp.reshape(emb, (-1, emb.shape[1] * emb.shape[2])) @ W1 + b1)\n",
    "    logits = h @ W2 + b2\n",
    "    return logits\n",
    "\n",
    "@jit\n",
    "def cross_entropy_loss(params, X, Y):\n",
    "    logits = predict(*params, X)\n",
    "    counts = jnp.exp(logits - logsumexp(logits, axis=1, keepdims=True)) # logits - logsumexp(logits) ensures that there aren't overflow errors\n",
    "    probs = counts / jnp.sum(counts, 1, keepdims=True)\n",
    "    def get_idx(prob, y):\n",
    "        return -jnp.log(prob[y])\n",
    "    vectorized_probs = vmap(get_idx)(probs, Y)\n",
    "    return vectorized_probs.mean()\n",
    "    "
   ]
  },
  {
   "cell_type": "code",
   "execution_count": 221,
   "metadata": {},
   "outputs": [],
   "source": [
    "@jit\n",
    "def update(parameters, X, Y, lr=0.1):\n",
    "    grads = grad(cross_entropy_loss)(parameters, X, Y)\n",
    "    return [ p - lr * g for p, g in zip(parameters, grads) ]\n"
   ]
  },
  {
   "cell_type": "code",
   "execution_count": 247,
   "metadata": {},
   "outputs": [],
   "source": [
    "# For learning rate optimization\n",
    "lre = jnp.linspace(-3, 0, 1000)\n",
    "lrs = 10**lre\n",
    "lossi = []\n",
    "stepi = []"
   ]
  },
  {
   "cell_type": "code",
   "execution_count": 249,
   "metadata": {},
   "outputs": [],
   "source": [
    "def train(parameters, X, Y, key, lr=0.1, epochs=10):\n",
    "    for i in range(epochs):\n",
    "        key, _ = random.split(key)\n",
    "        ix = random.randint(key, (32, ), 0, X.shape[0]) # create random batch indicies\n",
    "\n",
    "        # lr = lrs[i]\n",
    "        parameters = update(parameters, X[ix], Y[ix], lr)\n",
    "        lossi.append(jnp.log10(cross_entropy_loss(parameters, X[ix], Y[ix])).item())\n",
    "        stepi.append(i)\n",
    "    return parameters"
   ]
  },
  {
   "cell_type": "code",
   "execution_count": 255,
   "metadata": {},
   "outputs": [
    {
     "name": "stdout",
     "output_type": "stream",
     "text": [
      "training loss: 2.1549744606018066\n",
      "validation loss: 2.1952459812164307\n"
     ]
    }
   ],
   "source": [
    "parameters = train(parameters, Xtr, Ytr, key, 0.01, 50000)\n",
    "print(f\"training loss: {cross_entropy_loss(parameters, Xtr, Ytr)}\")\n",
    "print(f\"validation loss: {cross_entropy_loss(parameters, Xval, Yval)}\")\n"
   ]
  },
  {
   "cell_type": "code",
   "execution_count": 268,
   "metadata": {},
   "outputs": [],
   "source": [
    "import torch\n",
    "g = torch.Generator().manual_seed(2147483647)\n",
    "\n",
    "def sample(parameters, num_words=5):\n",
    "    for i in range(num_words):\n",
    "        out = []\n",
    "        context = [0] * BLOCK_SIZE # Initialize to ... (all state tokens)\n",
    "        while True:\n",
    "            logits = predict(*parameters, jnp.array(context).reshape(1, -1))\n",
    "            probs = nn.softmax(logits, axis=1)\n",
    "\n",
    "            ix = torch.multinomial(torch.tensor(probs.tolist()), num_samples=1, replacement=True, generator=g).item()\n",
    "            context = context[1:] + [ix]\n",
    "            out.append(itos[ix])\n",
    "            if ix == 0:\n",
    "                break\n",
    "\n",
    "        print(''.join(out))"
   ]
  },
  {
   "cell_type": "code",
   "execution_count": 269,
   "metadata": {},
   "outputs": [
    {
     "name": "stdout",
     "output_type": "stream",
     "text": [
      "cer.\n",
      "marial.\n",
      "makion.\n",
      "kayda.\n",
      "kalistanainella.\n",
      "kamania.\n",
      "samiyah.\n",
      "jaleigh.\n",
      "tai.\n",
      "molie.\n",
      "cayo.\n",
      "keithia.\n",
      "kaley.\n",
      "maside.\n",
      "eniaverry.\n",
      "folst.\n",
      "hunavendorrensu.\n",
      "jade.\n",
      "breenley.\n",
      "alaira.\n"
     ]
    }
   ],
   "source": [
    "sample(parameters, 20)"
   ]
  },
  {
   "cell_type": "code",
   "execution_count": 271,
   "metadata": {},
   "outputs": [],
   "source": [
    "\n",
    "def functional_sample(parameters, num_words=5):\n",
    "    def gen(context):\n",
    "        logits = predict(*parameters, jnp.array(context).reshape(1, -1))\n",
    "        probs = nn.softmax(logits, axis=1)\n",
    "\n",
    "        ix = torch.multinomial(torch.tensor(probs.tolist()), num_samples=1, replacement=True, generator=g).item()\n",
    "        context = context[1:] + [ix]\n",
    "        return context\n",
    "    \n",
    "    for i in range(num_words):\n",
    "        def red(acc, context):\n",
    "            ix = context[-1]\n",
    "            if ix == 0:\n",
    "                return acc + [itos[ix]]\n",
    "            else:\n",
    "                return red(acc + [itos[ix]], gen(context))\n",
    "        out = red([], gen([0] * BLOCK_SIZE))\n",
    "        print(''.join(out))"
   ]
  },
  {
   "cell_type": "code",
   "execution_count": 272,
   "metadata": {},
   "outputs": [
    {
     "name": "stdout",
     "output_type": "stream",
     "text": [
      "cer.\n",
      "marial.\n",
      "makion.\n",
      "kayda.\n",
      "kalistanainella.\n",
      "kamania.\n",
      "samiyah.\n",
      "jaleigh.\n",
      "tai.\n",
      "molie.\n",
      "cayo.\n",
      "keithia.\n",
      "kaley.\n",
      "maside.\n",
      "eniaverry.\n",
      "folst.\n",
      "hunavendorrensu.\n",
      "jade.\n",
      "breenley.\n",
      "alaira.\n"
     ]
    }
   ],
   "source": [
    "g = torch.Generator().manual_seed(2147483647)\n",
    "functional_sample(parameters, 20)"
   ]
  },
  {
   "cell_type": "code",
   "execution_count": 256,
   "metadata": {},
   "outputs": [],
   "source": [
    "# Extra plots from various scattered experiments --------------------------"
   ]
  },
  {
   "cell_type": "code",
   "execution_count": 127,
   "metadata": {},
   "outputs": [
    {
     "data": {
      "text/plain": [
       "[<matplotlib.lines.Line2D at 0x357ac5550>]"
      ]
     },
     "execution_count": 127,
     "metadata": {},
     "output_type": "execute_result"
    },
    {
     "data": {
      "image/png": "[encoded data removed]",
      "text/plain": [
       "<Figure size 640x480 with 1 Axes>"
      ]
     },
     "metadata": {},
     "output_type": "display_data"
    }
   ],
   "source": [
    "plt.plot(lre, lossi)"
   ]
  },
  {
   "cell_type": "code",
   "execution_count": 251,
   "metadata": {},
   "outputs": [
    {
     "data": {
      "text/plain": [
       "[<matplotlib.lines.Line2D at 0x353e45070>]"
      ]
     },
     "execution_count": 251,
     "metadata": {},
     "output_type": "execute_result"
    },
    {
     "data": {
      "image/png": "[encoded data removed]",
      "text/plain": [
       "<Figure size 640x480 with 1 Axes>"
      ]
     },
     "metadata": {},
     "output_type": "display_data"
    }
   ],
   "source": [
    "plt.plot(stepi, lossi)"
   ]
  },
  {
   "cell_type": "code",
   "execution_count": 238,
   "metadata": {},
   "outputs": [
    {
     "data": {
      "image/png": "[encoded data removed]",
      "text/plain": [
       "<Figure size 800x800 with 1 Axes>"
      ]
     },
     "metadata": {},
     "output_type": "display_data"
    }
   ],
   "source": [
    "# If we keep the dimensions of the input vector = 2, then we can see how \n",
    "# characters clump together when plotting the features on the X,Y axis.\n",
    "# For example, the vowels a, e, i, o, u, and even y are close together \n",
    "# (probably indicating they are similar), while letters like q and the\n",
    "# special stop token are sort of on their own.\n",
    "# NOTE: this is harder to visualize when we increase the feature size.\n",
    "C1 = parameters[0]\n",
    "plt.figure(figsize=(8, 8))\n",
    "plt.scatter(C1[:, 0].tolist(), C1[:, 1].tolist(), s=200)\n",
    "for i in range(C1.shape[0]):\n",
    "    plt.text(C1[i, 0].item(), C1[i, 1].item(), itos[i], ha=\"center\", va=\"center\", color=\"white\")\n",
    "plt.grid('minor')"
   ]
  },
  {
   "cell_type": "code",
   "execution_count": null,
   "metadata": {},
   "outputs": [],
   "source": []
  }
 ],
 "metadata": {
  "kernelspec": {
   "display_name": "pyenv",
   "language": "python",
   "name": "python3"
  },
  "language_info": {
   "codemirror_mode": {
    "name": "ipython",
    "version": 3
   },
   "file_extension": ".py",
   "mimetype": "text/x-python",
   "name": "python",
   "nbconvert_exporter": "python",
   "pygments_lexer": "ipython3",
   "version": "3.12.4"
  }
 },
 "nbformat": 4,
 "nbformat_minor": 2
}
